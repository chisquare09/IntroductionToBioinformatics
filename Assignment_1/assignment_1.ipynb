{
 "cells": [
  {
   "cell_type": "code",
   "execution_count": 1,
   "metadata": {},
   "outputs": [],
   "source": [
    "import central_dogma\n"
   ]
  },
  {
   "cell_type": "markdown",
   "metadata": {},
   "source": [
    "# Practical 1.1: Translate DNA sequence into protein"
   ]
  },
  {
   "cell_type": "code",
   "execution_count": 2,
   "metadata": {},
   "outputs": [],
   "source": [
    "SEQUENCE = \"\"\"tctaaggtgcgcaacattacctcccagttgcgccgcgatcgaatctaatggcccaaaaca\n",
    "ggaaagttcgcactcgactcctgaagatatgagcagtgacctgtatctaaacgcaggctt\n",
    "cttcatggtttacactgttagacccaagcatcttccgaggcctcgatggtactggatgta\n",
    "gggtcaataagtctgtctgtcggtcagctatccatgactgtaaatgggttgtgtcagagg\n",
    "agaattctcgagtcagtatgtgggccggcccacgtgtccccgtagcaagaaccccaacat\n",
    "gatcttatctagaaggactgcagtttgcctttcccgacccacgttcccgcacttggcctt\n",
    "ctaagtatccagagctgatcaaagtgaagccgcctgccttgagcgccaacctattgtcaa\n",
    "gagccgtaatcgtctcgtatttaacgctgcatgtttcctcatctcagccgaaccctgccc\n",
    "tgcacatctccgtttaatagtttccacttcaaaaggggagcacctctcgatctgtcatcg\n",
    "caggtctgaagttaactgattcgcagtgacaactaattagctgttaagtccacagcttat\n",
    "gactcctagaatagacatgctggaatatccagcggcactccccaacccatcttaccaacc\n",
    "tttctcacatttccaaaggagcagcagtccgcccatgtcagctccacgtcgggcttatat\n",
    "tctacagaatcgggtcgcataccgcaggccttttgtgggatcaaccgccggccctagatc\n",
    "gacctgtcgttgcacaacttggtcacgctttggtgacgtggtgcccgaccgtctacatct\n",
    "aagaatggacgctaggcatgctaaggctactgcggttcctcggggtcccccctcaggcca\n",
    "tttgattccggctgtgcacacaaaatgagattttgtcaaaagggtcattctaataatcta\n",
    "gactccacgttggcgaggacctgagaaatatcccacttat\"\"\""
   ]
  },
  {
   "cell_type": "code",
   "execution_count": 3,
   "metadata": {},
   "outputs": [
    {
     "name": "stdout",
     "output_type": "stream",
     "text": [
      "Input sequence: TCTAAGGTGCGCAACATTACCTCCCAGTTGCGCCGCGATCGAATCTAATGGCCCAAAACAGGAAAGTTCGCACTCGACTCCTGAAGATATGAGCAGTGACCTGTATCTAAACGCAGGCTTCTTCATGGTTTACACTGTTAGACCCAAGCATCTTCCGAGGCCTCGATGGTACTGGATGTAGGGTCAATAAGTCTGTCTGTCGGTCAGCTATCCATGACTGTAAATGGGTTGTGTCAGAGGAGAATTCTCGAGTCAGTATGTGGGCCGGCCCACGTGTCCCCGTAGCAAGAACCCCAACATGATCTTATCTAGAAGGACTGCAGTTTGCCTTTCCCGACCCACGTTCCCGCACTTGGCCTTCTAAGTATCCAGAGCTGATCAAAGTGAAGCCGCCTGCCTTGAGCGCCAACCTATTGTCAAGAGCCGTAATCGTCTCGTATTTAACGCTGCATGTTTCCTCATCTCAGCCGAACCCTGCCCTGCACATCTCCGTTTAATAGTTTCCACTTCAAAAGGGGAGCACCTCTCGATCTGTCATCGCAGGTCTGAAGTTAACTGATTCGCAGTGACAACTAATTAGCTGTTAAGTCCACAGCTTATGACTCCTAGAATAGACATGCTGGAATATCCAGCGGCACTCCCCAACCCATCTTACCAACCTTTCTCACATTTCCAAAGGAGCAGCAGTCCGCCCATGTCAGCTCCACGTCGGGCTTATATTCTACAGAATCGGGTCGCATACCGCAGGCCTTTTGTGGGATCAACCGCCGGCCCTAGATCGACCTGTCGTTGCACAACTTGGTCACGCTTTGGTGACGTGGTGCCCGACCGTCTACATCTAAGAATGGACGCTAGGCATGCTAAGGCTACTGCGGTTCCTCGGGGTCCCCCCTCAGGCCATTTGATTCCGGCTGTGCACACAAAATGAGATTTTGTCAAAAGGGTCATTCTAATAATCTAGACTCCACGTTGGCGAGGACCTGAGAAATATCCCACTTAT\n",
      "Warning: The DNA sequence length is not divisible by 3.\n",
      "Complement DNA: AGATTCCACGCGTTGTAATGGAGGGTCAACGCGGCGCTAGCTTAGATTACCGGGTTTTGTCCTTTCAAGCGTGAGCTGAGGACTTCTATACTCGTCACTGGACATAGATTTGCGTCCGAAGAAGTACCAAATGTGACAATCTGGGTTCGTAGAAGGCTCCGGAGCTACCATGACCTACATCCCAGTTATTCAGACAGACAGCCAGTCGATAGGTACTGACATTTACCCAACACAGTCTCCTCTTAAGAGCTCAGTCATACACCCGGCCGGGTGCACAGGGGCATCGTTCTTGGGGTTGTACTAGAATAGATCTTCCTGACGTCAAACGGAAAGGGCTGGGTGCAAGGGCGTGAACCGGAAGATTCATAGGTCTCGACTAGTTTCACTTCGGCGGACGGAACTCGCGGTTGGATAACAGTTCTCGGCATTAGCAGAGCATAAATTGCGACGTACAAAGGAGTAGAGTCGGCTTGGGACGGGACGTGTAGAGGCAAATTATCAAAGGTGAAGTTTTCCCCTCGTGGAGAGCTAGACAGTAGCGTCCAGACTTCAATTGACTAAGCGTCACTGTTGATTAATCGACAATTCAGGTGTCGAATACTGAGGATCTTATCTGTACGACCTTATAGGTCGCCGTGAGGGGTTGGGTAGAATGGTTGGAAAGAGTGTAAAGGTTTCCTCGTCGTCAGGCGGGTACAGTCGAGGTGCAGCCCGAATATAAGATGTCTTAGCCCAGCGTATGGCGTCCGGAAAACACCCTAGTTGGCGGCCGGGATCTAGCTGGACAGCAACGTGTTGAACCAGTGCGAAACCACTGCACCACGGGCTGGCAGATGTAGATTCTTACCTGCGATCCGTACGATTCCGATGACGCCAAGGAGCCCCAGGGGGGAGTCCGGTAAACTAAGGCCGACACGTGTGTTTTACTCTAAAACAGTTTTCCCAGTAAGATTATTAGATCTGAGGTGCAACCGCTCCTGGACTCTTTATAGGGTGAAT\n",
      "mRNA sequence: AGAUUCCACGCGUUGUAAUGGAGGGUCAACGCGGCGCUAGCUUAGAUUACCGGGUUUUGUCCUUUCAAGCGUGAGCUGAGGACUUCUAUACUCGUCACUGGACAUAGAUUUGCGUCCGAAGAAGUACCAAAUGUGACAAUCUGGGUUCGUAGAAGGCUCCGGAGCUACCAUGACCUACAUCCCAGUUAUUCAGACAGACAGCCAGUCGAUAGGUACUGACAUUUACCCAACACAGUCUCCUCUUAAGAGCUCAGUCAUACACCCGGCCGGGUGCACAGGGGCAUCGUUCUUGGGGUUGUACUAGAAUAGAUCUUCCUGACGUCAAACGGAAAGGGCUGGGUGCAAGGGCGUGAACCGGAAGAUUCAUAGGUCUCGACUAGUUUCACUUCGGCGGACGGAACUCGCGGUUGGAUAACAGUUCUCGGCAUUAGCAGAGCAUAAAUUGCGACGUACAAAGGAGUAGAGUCGGCUUGGGACGGGACGUGUAGAGGCAAAUUAUCAAAGGUGAAGUUUUCCCCUCGUGGAGAGCUAGACAGUAGCGUCCAGACUUCAAUUGACUAAGCGUCACUGUUGAUUAAUCGACAAUUCAGGUGUCGAAUACUGAGGAUCUUAUCUGUACGACCUUAUAGGUCGCCGUGAGGGGUUGGGUAGAAUGGUUGGAAAGAGUGUAAAGGUUUCCUCGUCGUCAGGCGGGUACAGUCGAGGUGCAGCCCGAAUAUAAGAUGUCUUAGCCCAGCGUAUGGCGUCCGGAAAACACCCUAGUUGGCGGCCGGGAUCUAGCUGGACAGCAACGUGUUGAACCAGUGCGAAACCACUGCACCACGGGCUGGCAGAUGUAGAUUCUUACCUGCGAUCCGUACGAUUCCGAUGACGCCAAGGAGCCCCAGGGGGGAGUCCGGUAAACUAAGGCCGACACGUGUGUUUUACUCUAAAACAGUUUUCCCAGUAAGAUUAUUAGAUCUGAGGUGCAACCGCUCCUGGACUCUUUAUAGGGUGAAU\n",
      "Codons: ['AGA', 'UUC', 'CAC', 'GCG', 'UUG', 'UAA', 'UGG', 'AGG', 'GUC', 'AAC', 'GCG', 'GCG', 'CUA', 'GCU', 'UAG', 'AUU', 'ACC', 'GGG', 'UUU', 'UGU', 'CCU', 'UUC', 'AAG', 'CGU', 'GAG', 'CUG', 'AGG', 'ACU', 'UCU', 'AUA', 'CUC', 'GUC', 'ACU', 'GGA', 'CAU', 'AGA', 'UUU', 'GCG', 'UCC', 'GAA', 'GAA', 'GUA', 'CCA', 'AAU', 'GUG', 'ACA', 'AUC', 'UGG', 'GUU', 'CGU', 'AGA', 'AGG', 'CUC', 'CGG', 'AGC', 'UAC', 'CAU', 'GAC', 'CUA', 'CAU', 'CCC', 'AGU', 'UAU', 'UCA', 'GAC', 'AGA', 'CAG', 'CCA', 'GUC', 'GAU', 'AGG', 'UAC', 'UGA', 'CAU', 'UUA', 'CCC', 'AAC', 'ACA', 'GUC', 'UCC', 'UCU', 'UAA', 'GAG', 'CUC', 'AGU', 'CAU', 'ACA', 'CCC', 'GGC', 'CGG', 'GUG', 'CAC', 'AGG', 'GGC', 'AUC', 'GUU', 'CUU', 'GGG', 'GUU', 'GUA', 'CUA', 'GAA', 'UAG', 'AUC', 'UUC', 'CUG', 'ACG', 'UCA', 'AAC', 'GGA', 'AAG', 'GGC', 'UGG', 'GUG', 'CAA', 'GGG', 'CGU', 'GAA', 'CCG', 'GAA', 'GAU', 'UCA', 'UAG', 'GUC', 'UCG', 'ACU', 'AGU', 'UUC', 'ACU', 'UCG', 'GCG', 'GAC', 'GGA', 'ACU', 'CGC', 'GGU', 'UGG', 'AUA', 'ACA', 'GUU', 'CUC', 'GGC', 'AUU', 'AGC', 'AGA', 'GCA', 'UAA', 'AUU', 'GCG', 'ACG', 'UAC', 'AAA', 'GGA', 'GUA', 'GAG', 'UCG', 'GCU', 'UGG', 'GAC', 'GGG', 'ACG', 'UGU', 'AGA', 'GGC', 'AAA', 'UUA', 'UCA', 'AAG', 'GUG', 'AAG', 'UUU', 'UCC', 'CCU', 'CGU', 'GGA', 'GAG', 'CUA', 'GAC', 'AGU', 'AGC', 'GUC', 'CAG', 'ACU', 'UCA', 'AUU', 'GAC', 'UAA', 'GCG', 'UCA', 'CUG', 'UUG', 'AUU', 'AAU', 'CGA', 'CAA', 'UUC', 'AGG', 'UGU', 'CGA', 'AUA', 'CUG', 'AGG', 'AUC', 'UUA', 'UCU', 'GUA', 'CGA', 'CCU', 'UAU', 'AGG', 'UCG', 'CCG', 'UGA', 'GGG', 'GUU', 'GGG', 'UAG', 'AAU', 'GGU', 'UGG', 'AAA', 'GAG', 'UGU', 'AAA', 'GGU', 'UUC', 'CUC', 'GUC', 'GUC', 'AGG', 'CGG', 'GUA', 'CAG', 'UCG', 'AGG', 'UGC', 'AGC', 'CCG', 'AAU', 'AUA', 'AGA', 'UGU', 'CUU', 'AGC', 'CCA', 'GCG', 'UAU', 'GGC', 'GUC', 'CGG', 'AAA', 'ACA', 'CCC', 'UAG', 'UUG', 'GCG', 'GCC', 'GGG', 'AUC', 'UAG', 'CUG', 'GAC', 'AGC', 'AAC', 'GUG', 'UUG', 'AAC', 'CAG', 'UGC', 'GAA', 'ACC', 'ACU', 'GCA', 'CCA', 'CGG', 'GCU', 'GGC', 'AGA', 'UGU', 'AGA', 'UUC', 'UUA', 'CCU', 'GCG', 'AUC', 'CGU', 'ACG', 'AUU', 'CCG', 'AUG', 'ACG', 'CCA', 'AGG', 'AGC', 'CCC', 'AGG', 'GGG', 'GAG', 'UCC', 'GGU', 'AAA', 'CUA', 'AGG', 'CCG', 'ACA', 'CGU', 'GUG', 'UUU', 'UAC', 'UCU', 'AAA', 'ACA', 'GUU', 'UUC', 'CCA', 'GUA', 'AGA', 'UUA', 'UUA', 'GAU', 'CUG', 'AGG', 'UGC', 'AAC', 'CGC', 'UCC', 'UGG', 'ACU', 'CUU', 'UAU', 'AGG', 'GUG', 'AAU']\n",
      "Protein sequence: Arg-Phe-His-Ala-Leu\n"
     ]
    }
   ],
   "source": [
    "def main():\n",
    "    sequence = central_dogma.clean_sequence(SEQUENCE)\n",
    "    print(\"Input sequence: {0}\".format(sequence))\n",
    "    central_dogma.dna_to_protein(sequence)\n",
    "\n",
    "if __name__ == \"__main__\":\n",
    "    main()\n"
   ]
  },
  {
   "cell_type": "markdown",
   "metadata": {},
   "source": [
    "# Pratical 1.2: Translate DNA sequence into protein with 6-frame translation"
   ]
  },
  {
   "cell_type": "code",
   "execution_count": 4,
   "metadata": {},
   "outputs": [
    {
     "name": "stdout",
     "output_type": "stream",
     "text": [
      "Input sequence: tctaaggtgcgcaacattacctcccagttgcgccgcgatcgaatctaatggcccaaaacaggaaagttcgcactcgactcctgaagatatgagcagtgacctgtatctaaacgcaggcttcttcatggtttacactgttagacccaagcatcttccgaggcctcgatggtactggatgtagggtcaataagtctgtctgtcggtcagctatccatgactgtaaatgggttgtgtcagaggagaattctcgagtcagtatgtgggccggcccacgtgtccccgtagcaagaaccccaacatgatcttatctagaaggactgcagtttgcctttcccgacccacgttcccgcacttggccttctaagtatccagagctgatcaaagtgaagccgcctgccttgagcgccaacctattgtcaagagccgtaatcgtctcgtatttaacgctgcatgtttcctcatctcagccgaaccctgccctgcacatctccgtttaatagtttccacttcaaaaggggagcacctctcgatctgtcatcgcaggtctgaagttaactgattcgcagtgacaactaattagctgttaagtccacagcttatgactcctagaatagacatgctggaatatccagcggcactccccaacccatcttaccaacctttctcacatttccaaaggagcagcagtccgcccatgtcagctccacgtcgggcttatattctacagaatcgggtcgcataccgcaggccttttgtgggatcaaccgccggccctagatcgacctgtcgttgcacaacttggtcacgctttggtgacgtggtgcccgaccgtctacatctaagaatggacgctaggcatgctaaggctactgcggttcctcggggtcccccctcaggccatttgattccggctgtgcacacaaaatgagattttgtcaaaagggtcattctaataatctagactccacgttggcgaggacctgagaaatatcccacttat\n",
      "+-------+-----+-------------+-----------------------+---------+-------+-----------------------------------------------------------------------------------------------------------------------------------------------------------------------------------------------------------------------------------------------------------------------------------------------------------------------------------------+\n",
      "| Start | End | Length (aa) | Nucleotide length(nt) | Strand  | Frame |                                                                                                                                                                Sequence                                                                                                                                                                 |\n",
      "+-------+-----+-------------+-----------------------+---------+-------+-----------------------------------------------------------------------------------------------------------------------------------------------------------------------------------------------------------------------------------------------------------------------------------------------------------------------------------------+\n",
      "|  166  | 285 |     39      |          120          | forward |   1   |                                                                                                          ATGGTACTGGATGTAGGGTCAATAAGTCTGTCTGTCGGTCAGCTATCCATGACTGTAAATGGGTTGTGTCAGAGGAGAATTCTCGAGTCAGTATGTGGGCCGGCCCACGTGTCCCCG                                                                                                          |\n",
      "|  451  | 549 |     32      |          99           | forward |   1   |                                                                                                                    ATGTTTCCTCATCTCAGCCGAACCCTGCCCTGCACATCTCCGTTTAATAGTTTCCACTTCAAAAGGGGAGCACCTCTCGATCTGTCATCGCAGGTC                                                                                                                     |\n",
      "|  89   | 181 |     30      |          93           | forward |   2   |                                                                                                                       ATGAGCAGTGACCTGTATCTAAACGCAGGCTTCTTCATGGTTTACACTGTTAGACCCAAGCATCTTCCGAGGCCTCGATGGTACTGGATG                                                                                                                        |\n",
      "|  224  | 364 |     46      |          141          | forward |   2   |                                                                                               ATGGGTTGTGTCAGAGGAGAATTCTCGAGTCAGTATGTGGGCCGGCCCACGTGTCCCCGTAGCAAGAACCCCAACATGATCTTATCTAGAAGGACTGCAGTTTGCCTTTCCCGACCCACGTTCCCGCACTTGGCCTTC                                                                                                |\n",
      "|  599  | 928 |     109     |          330          | forward |   2   | ATGACTCCTAGAATAGACATGCTGGAATATCCAGCGGCACTCCCCAACCCATCTTACCAACCTTTCTCACATTTCCAAAGGAGCAGCAGTCCGCCCATGTCAGCTCCACGTCGGGCTTATATTCTACAGAATCGGGTCGCATACCGCAGGCCTTTTGTGGGATCAACCGCCGGCCCTAGATCGACCTGTCGTTGCACAACTTGGTCACGCTTTGGTGACGTGGTGCCCGACCGTCTACATCTAAGAATGGACGCTAGGCATGCTAAGGCTACTGCGGTTCCTCGGGGTCCCCCCTCAGGCCATTTGATTCCGGCTGTGCACACAAAA |\n",
      "|  715  | 948 |     77      |          234          | reverse |   2   |                                                 ATGACCCTTTTGACAAAATCTCATTTTGTGTGCACAGCCGGAATCAAATGGCCTGAGGGGGGACCCCGAGGAACCGCAGTAGCCTTAGCATGCCTAGCGTCCATTCTTAGATGTAGACGGTCGGGCACCACGTCACCAAAGCGTGACCAAGTTGTGCAACGACAGGTCGATCTAGGGCCGGCGGTTGATCCCACAAAAGGCCTGCGGTATGCGACCCGATTCTGTAGAATA                                                 |\n",
      "|  379  | 462 |     27      |          84           | reverse |   2   |                                                                                                                            ATGAGGAAACATGCAGCGTTAAATACGAGACGATTACGGCTCTTGACAATAGGTTGGCGCTCAAGGCAGGCGGCTTCACTT                                                                                                                            |\n",
      "|  126  | >1  |     41      |          126          | reverse |   2   |                                                                                                     ATGAAGAAGCCTGCGTTTAGATACAGGTCACTGCTCATATCTTCAGGAGTCGAGTGCGAACTTTCCTGTTTTGGGCCATTAGATTCGATCGCGGCGCAACTGGGAGGTAATGTTGCGCACCTTAGA                                                                                                      |\n",
      "|  606  | 740 |     44      |          135          | reverse |   3   |                                                                                                  ATGCGACCCGATTCTGTAGAATATAAGCCCGACGTGGAGCTGACATGGGCGGACTGCTGCTCCTTTGGAAATGTGAGAAAGGTTGGTAAGATGGGTTGGGGAGTGCCGCTGGATATTCCAGCATGTCTATTC                                                                                                   |\n",
      "+-------+-----+-------------+-----------------------+---------+-------+-----------------------------------------------------------------------------------------------------------------------------------------------------------------------------------------------------------------------------------------------------------------------------------------------------------------------------------------+\n",
      "\n",
      "Longest protein length: 109 amino acids\n",
      "Longest protein: Start=599, End=928, Length=109, Strand=330, Frame=forward\n",
      "\n",
      "Shortest protein length: 27 amino acids\n",
      "Shortest protein: Start=379, End=462, Length=27, Strand=84, Frame=reverse\n",
      "None\n"
     ]
    }
   ],
   "source": [
    "def main():\n",
    "    \n",
    "    sequence = SEQUENCE.replace(\"\\n\", \"\")\n",
    "    print(\"Input sequence: {0}\".format(sequence))\n",
    "    central_dogma.six_frame_translation(sequence)\n",
    "    \n",
    "    print(central_dogma.report_predicted_proteins(sequence))\n",
    "\n",
    "if __name__ == \"__main__\":\n",
    "    main()"
   ]
  }
 ],
 "metadata": {
  "kernelspec": {
   "display_name": "fbk",
   "language": "python",
   "name": "python3"
  },
  "language_info": {
   "codemirror_mode": {
    "name": "ipython",
    "version": 3
   },
   "file_extension": ".py",
   "mimetype": "text/x-python",
   "name": "python",
   "nbconvert_exporter": "python",
   "pygments_lexer": "ipython3",
   "version": "3.10.16"
  }
 },
 "nbformat": 4,
 "nbformat_minor": 2
}
