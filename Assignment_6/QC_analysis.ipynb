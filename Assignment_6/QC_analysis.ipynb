{
 "cells": [
  {
   "cell_type": "code",
   "execution_count": 2,
   "metadata": {},
   "outputs": [],
   "source": [
    "import sys\n",
    "from Bio.SeqIO.QualityIO import FastqGeneralIterator\n",
    "from Bio import SeqIO"
   ]
  },
  {
   "cell_type": "code",
   "execution_count": 3,
   "metadata": {},
   "outputs": [
    {
     "name": "stdout",
     "output_type": "stream",
     "text": [
      "156212\n",
      "156212\n"
     ]
    }
   ],
   "source": [
    "# read for number of reads in fastq file\n",
    "\n",
    "def read_fastq(fastq_file):\n",
    "    count = 0\n",
    "    with open(fastq_file) as f:\n",
    "        for line in f.readlines():\n",
    "            count += 1\n",
    "    return int(count/4)\n",
    "\n",
    "count_1 = read_fastq(\"/home/vannguyen/project/IntroductionToBioinformatics/Assignment_6/Sample20_R1.fastq\")\n",
    "count_2 = read_fastq(\"/home/vannguyen/project/IntroductionToBioinformatics/Assignment_6/Sample20_R2.fastq\")\n",
    "print(count_1)\n",
    "print(count_2)\n"
   ]
  },
  {
   "cell_type": "code",
   "execution_count": 4,
   "metadata": {},
   "outputs": [],
   "source": [
    "# calculate the CG content of the reads\n",
    "def calculate_cg_content(fastq_file):\n",
    "    cg_content = 0\n",
    "    total = 0\n",
    "    with open(fastq_file) as f:\n",
    "        for title, seq, qual in FastqGeneralIterator(f):\n",
    "            cg_content += seq.count(\"C\") + seq.count(\"G\")\n",
    "            total += len(seq)\n",
    "    return cg_content/total"
   ]
  },
  {
   "cell_type": "code",
   "execution_count": 5,
   "metadata": {},
   "outputs": [
    {
     "name": "stdout",
     "output_type": "stream",
     "text": [
      "0.670519422323509\n",
      "0.6756187104703864\n"
     ]
    }
   ],
   "source": [
    "cg_content_1 = calculate_cg_content(\"/home/vannguyen/project/IntroductionToBioinformatics/Assignment_6/Sample20_R1.fastq\")\n",
    "cg_content_2 = calculate_cg_content(\"/home/vannguyen/project/IntroductionToBioinformatics/Assignment_6/Sample20_R2.fastq\")\n",
    "print(cg_content_1)\n",
    "print(cg_content_2)"
   ]
  },
  {
   "cell_type": "code",
   "execution_count": 6,
   "metadata": {},
   "outputs": [
    {
     "name": "stdout",
     "output_type": "stream",
     "text": [
      "Average quality for first 50 reads in /home/vannguyen/project/IntroductionToBioinformatics/Assignment_6/Sample20_R1.fastq: 25.31\n",
      "Average quality for first 50 reads in /home/vannguyen/project/IntroductionToBioinformatics/Assignment_6/Sample20_R2.fastq: 23.95\n"
     ]
    }
   ],
   "source": [
    "import csv\n",
    "from Bio.SeqIO.QualityIO import FastqGeneralIterator\n",
    "\n",
    "def load_qscore_mapping(csv_file):\n",
    "    qscore_map = {}\n",
    "    with open(csv_file, newline='') as f:\n",
    "        reader = csv.reader(f)\n",
    "        next(reader)  # Skip header\n",
    "        for row in reader:\n",
    "            symbol, ascii_code, q_score = row\n",
    "            qscore_map[symbol] = int(q_score)\n",
    "    return qscore_map\n",
    "\n",
    "def calculate_average_quality(fastq_file, qscore_map, num_reads=50):\n",
    "    total_quality = 0\n",
    "    total_bases = 0\n",
    "    count = 0\n",
    "    \n",
    "    with open(fastq_file) as f:\n",
    "        for title, seq, qual in FastqGeneralIterator(f):\n",
    "            if count >= num_reads:\n",
    "                break\n",
    "            \n",
    "            quality_scores = [qscore_map[q] for q in qual if q in qscore_map]  # Convert using CSV mapping\n",
    "            total_quality += sum(quality_scores)\n",
    "            total_bases += len(quality_scores)\n",
    "            count += 1\n",
    "    \n",
    "    return total_quality / total_bases if total_bases > 0 else 0\n",
    "\n",
    "# Load Q-score mapping\n",
    "qscore_file = \"Q_score.csv\"\n",
    "qscore_mapping = load_qscore_mapping(qscore_file)\n",
    "\n",
    "# Example usage\n",
    "fastq_file_1 = \"/home/vannguyen/project/IntroductionToBioinformatics/Assignment_6/Sample20_R1.fastq\"\n",
    "fastq_file_2 = \"/home/vannguyen/project/IntroductionToBioinformatics/Assignment_6/Sample20_R2.fastq\"\n",
    "\n",
    "avg_quality_1 = calculate_average_quality(fastq_file_1, qscore_mapping)\n",
    "avg_quality_2 = calculate_average_quality(fastq_file_2, qscore_mapping)\n",
    "\n",
    "print(f\"Average quality for first 50 reads in {fastq_file_1}: {avg_quality_1:.2f}\")\n",
    "print(f\"Average quality for first 50 reads in {fastq_file_2}: {avg_quality_2:.2f}\")\n",
    "\n"
   ]
  }
 ],
 "metadata": {
  "kernelspec": {
   "display_name": "fbk",
   "language": "python",
   "name": "python3"
  },
  "language_info": {
   "codemirror_mode": {
    "name": "ipython",
    "version": 3
   },
   "file_extension": ".py",
   "mimetype": "text/x-python",
   "name": "python",
   "nbconvert_exporter": "python",
   "pygments_lexer": "ipython3",
   "version": "3.10.16"
  }
 },
 "nbformat": 4,
 "nbformat_minor": 2
}
