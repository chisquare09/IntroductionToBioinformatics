{
 "cells": [
  {
   "cell_type": "code",
   "execution_count": 3,
   "metadata": {},
   "outputs": [],
   "source": [
    "import sys\n",
    "from Bio.SeqIO.QualityIO import FastqGeneralIterator\n",
    "from Bio import SeqIO"
   ]
  },
  {
   "cell_type": "code",
   "execution_count": null,
   "metadata": {},
   "outputs": [
    {
     "name": "stdout",
     "output_type": "stream",
     "text": [
      "156212\n",
      "156212\n"
     ]
    }
   ],
   "source": [
    "# read for number of reads in fastq file\n",
    "\n",
    "def read_fastq(fastq_file):\n",
    "    count = 0\n",
    "    with open(fastq_file) as f:\n",
    "        for line in f.readlines():\n",
    "            count += 1\n",
    "    return int(count/4)\n",
    "\n",
    "count_1 = read_fastq(\"/home/vannguyen/project/IntroductionToBioinformatics/Assignment_4_QC/Sample20_R1.fastq\")\n",
    "count_2 = read_fastq(\"/home/vannguyen/project/IntroductionToBioinformatics/Assignment_4_QC/Sample20_R2.fastq\")\n",
    "print(count_1)\n",
    "print(count_2)\n"
   ]
  },
  {
   "cell_type": "code",
   "execution_count": 10,
   "metadata": {},
   "outputs": [],
   "source": [
    "# calculate the CG content of the reads\n",
    "def calculate_cg_content(fastq_file):\n",
    "    cg_content = 0\n",
    "    total = 0\n",
    "    with open(fastq_file) as f:\n",
    "        for title, seq, qual in FastqGeneralIterator(f):\n",
    "            cg_content += seq.count(\"C\") + seq.count(\"G\")\n",
    "            total += len(seq)\n",
    "    return cg_content/total"
   ]
  },
  {
   "cell_type": "code",
   "execution_count": 12,
   "metadata": {},
   "outputs": [
    {
     "name": "stdout",
     "output_type": "stream",
     "text": [
      "0.670519422323509\n",
      "0.6756187104703864\n"
     ]
    }
   ],
   "source": [
    "cg_content_1 = calculate_cg_content(\"/home/vannguyen/project/IntroductionToBioinformatics/Assignment_4_QC/Sample20_R1.fastq\")\n",
    "cg_content_2 = calculate_cg_content(\"/home/vannguyen/project/IntroductionToBioinformatics/Assignment_4_QC/Sample20_R2.fastq\")\n",
    "print(cg_content_1)\n",
    "print(cg_content_2)"
   ]
  },
  {
   "cell_type": "code",
   "execution_count": null,
   "metadata": {},
   "outputs": [],
   "source": [
    "# calculate average quality (in Q score) of the first 50 reads\n",
    "# take the 4th line of each read and calculate the average Q score, using \n"
   ]
  }
 ],
 "metadata": {
  "kernelspec": {
   "display_name": "fbk",
   "language": "python",
   "name": "python3"
  },
  "language_info": {
   "codemirror_mode": {
    "name": "ipython",
    "version": 3
   },
   "file_extension": ".py",
   "mimetype": "text/x-python",
   "name": "python",
   "nbconvert_exporter": "python",
   "pygments_lexer": "ipython3",
   "version": "3.10.16"
  }
 },
 "nbformat": 4,
 "nbformat_minor": 2
}
